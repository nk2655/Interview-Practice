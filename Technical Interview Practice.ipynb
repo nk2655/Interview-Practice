{
 "cells": [
  {
   "cell_type": "markdown",
   "metadata": {},
   "source": [
    "# Technical Interview Practice\n",
    "by NK Zhehua Zou  \n",
    "  \n",
    "It's time to show off what you've learned about technical interviewing!  \n",
    "For this project, you will be given five technical interviewing questions on a variety of topics discussed in the technical interviewing course.  \n",
    "You should write up a clean and efficient answer in Python, as well as a text explanation of the efficiency of your code and your design choices.  \n",
    "A qualified reviewer will look over your answer and give you feedback on anything that might be awesome or lacking—is your solution the most efficient one possible?  \n",
    "Are you doing a good job of explaining your thoughts?  \n",
    "Is your code elegant and easy to read?  \n",
    "  \n",
    "Answer the following questions:  "
   ]
  },
  {
   "cell_type": "markdown",
   "metadata": {},
   "source": [
    "### Question 1\n",
    "Given two strings s and t, determine whether some anagram of t is a substring of s.  \n",
    "For example: if s = \"udacity\" and t = \"ad\", then the function returns True.  \n",
    "Your function definition should look like: question1(s, t) and return a boolean True or False."
   ]
  },
  {
   "cell_type": "code",
   "execution_count": 19,
   "metadata": {
    "collapsed": false
   },
   "outputs": [
    {
     "data": {
      "text/plain": [
       "False"
      ]
     },
     "execution_count": 19,
     "metadata": {},
     "output_type": "execute_result"
    }
   ],
   "source": [
    "# if you need substring order correct, such as 'da', use this function, then return false\n",
    "s = 'udacity'\n",
    "t = 'ad'\n",
    "def question1(s, t):\n",
    "    return t in s\n",
    "\n",
    "question1(s, t)"
   ]
  },
  {
   "cell_type": "code",
   "execution_count": 26,
   "metadata": {
    "collapsed": false
   },
   "outputs": [
    {
     "data": {
      "text/plain": [
       "True"
      ]
     },
     "execution_count": 26,
     "metadata": {},
     "output_type": "execute_result"
    }
   ],
   "source": [
    "# if you don't mind order, 'ad' still return True, use this function\n",
    "s = 'udacity'\n",
    "t = 'ad'\n",
    "def question1(s, t):\n",
    "    for u in t:\n",
    "        if u in s:\n",
    "            return True\n",
    "        else:\n",
    "            return False\n",
    "\n",
    "question1(s, t)"
   ]
  },
  {
   "cell_type": "markdown",
   "metadata": {},
   "source": [
    "### Question 2\n",
    "Given a string a, find the longest palindromic substring contained in a.  \n",
    "Your function definition should look like question2(a), and return a string."
   ]
  },
  {
   "cell_type": "code",
   "execution_count": 44,
   "metadata": {
    "collapsed": false
   },
   "outputs": [
    {
     "data": {
      "text/plain": [
       "3"
      ]
     },
     "execution_count": 44,
     "metadata": {},
     "output_type": "execute_result"
    }
   ],
   "source": [
    "a = \"udacitydataanalysis\"  # ata, ana, sis all are palindromic substring\n",
    "\n",
    "def question2(str):\n",
    "    count=[]\n",
    "    for s in range(len(str)):\n",
    "        for i in range(s,len(str)):\n",
    "            if str[s:i+1] == str[i:s-1:-1]:\n",
    "                count.append(i+1-s)\n",
    "    return max(count)\n",
    "\n",
    "question2(a)"
   ]
  },
  {
   "cell_type": "markdown",
   "metadata": {},
   "source": [
    "### Question 3\n",
    "Given an undirected graph G, find the minimum spanning tree within G.  \n",
    "A minimum spanning tree connects all vertices in a graph with the smallest possible total weight of edges.  \n",
    "Your function should take in and return an adjacency list structured like this:  \n",
    "  \n",
    "{'A': [('B', 2)], 'B': [('A', 2), ('C', 5)], 'C': [('B', 5)]}  \n",
    "Vertices are represented as unique strings. The function definition should be question3(G)  "
   ]
  },
  {
   "cell_type": "code",
   "execution_count": null,
   "metadata": {
    "collapsed": false
   },
   "outputs": [],
   "source": []
  },
  {
   "cell_type": "markdown",
   "metadata": {},
   "source": [
    "### Question 4\n",
    "Find the least common ancestor between two nodes on a binary search tree.  \n",
    "The least common ancestor is the farthest node from the root that is an ancestor of both nodes.  \n",
    "For example, the root is a common ancestor of all nodes on the tree, but if both nodes are descendents of the root's left child, then that left child might be the lowest common ancestor.  \n",
    "You can assume that both nodes are in the tree, and the tree itself adheres to all BST properties.  \n",
    "The function definition should look like question4(T, r, n1, n2), where T is the tree represented as a matrix, where the index of the list is equal to the integer stored in that node and a 1 represents a child node, r is a non-negative integer representing the root, and n1 and n2 are non-negative integers representing the two nodes in no particular order.  \n",
    "For example, one test case might be  \n",
    "  \n",
    "question4([[0, 1, 0, 0, 0],  \n",
    "           [0, 0, 0, 0, 0],  \n",
    "           [0, 0, 0, 0, 0],  \n",
    "           [1, 0, 0, 0, 1],  \n",
    "           [0, 0, 0, 0, 0]],  \n",
    "          3,  \n",
    "          1,  \n",
    "          4)  \n",
    "and the answer would be 3."
   ]
  },
  {
   "cell_type": "markdown",
   "metadata": {},
   "source": [
    "### Question 5\n",
    "Find the element in a singly linked list that's m elements from the end. For example, if a linked list has 5 elements, the 3rd element from the end is the 3rd element.  \n",
    "The function definition should look like question5(ll, m), where ll is the first node of a linked list and m is the \"mth number from the end\".  \n",
    "You should copy/paste the Node class below to use as a representation of a node in the linked list.  \n",
    "Return the value of the node at that position.  \n",
    "  \n",
    "class Node(object):  \n",
    "  def __init__(self, data):  \n",
    "    self.data = data  \n",
    "    self.next = None  "
   ]
  }
 ],
 "metadata": {
  "kernelspec": {
   "display_name": "Python [Root]",
   "language": "python",
   "name": "Python [Root]"
  },
  "language_info": {
   "codemirror_mode": {
    "name": "ipython",
    "version": 2
   },
   "file_extension": ".py",
   "mimetype": "text/x-python",
   "name": "python",
   "nbconvert_exporter": "python",
   "pygments_lexer": "ipython2",
   "version": "2.7.12"
  }
 },
 "nbformat": 4,
 "nbformat_minor": 0
}
