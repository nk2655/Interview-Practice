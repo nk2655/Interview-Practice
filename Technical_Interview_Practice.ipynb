{
 "cells": [
  {
   "cell_type": "markdown",
   "metadata": {},
   "source": [
    "# Technical Interview Practice\n",
    "by NK Zhehua Zou  \n",
    "  \n",
    "It's time to show off what you've learned about technical interviewing!  \n",
    "For this project, you will be given five technical interviewing questions on a variety of topics discussed in the technical interviewing course.  \n",
    "You should write up a clean and efficient answer in Python, as well as a text explanation of the efficiency of your code and your design choices.  \n",
    "A qualified reviewer will look over your answer and give you feedback on anything that might be awesome or lacking—is your solution the most efficient one possible?  \n",
    "Are you doing a good job of explaining your thoughts?  \n",
    "Is your code elegant and easy to read?  \n",
    "  \n",
    "Answer the following questions:  "
   ]
  },
  {
   "cell_type": "markdown",
   "metadata": {},
   "source": [
    "### Question 1\n",
    "Given two strings s and t, determine whether some anagram of t is a substring of s.  \n",
    "For example: if s = \"udacity\" and t = \"ad\", then the function returns True.  \n",
    "Your function definition should look like: question1(s, t) and return a boolean True or False."
   ]
  },
  {
   "cell_type": "code",
   "execution_count": 1,
   "metadata": {
    "collapsed": false
   },
   "outputs": [
    {
     "name": "stdout",
     "output_type": "stream",
     "text": [
      "answer 1:  True\n"
     ]
    }
   ],
   "source": [
    "# find anagram in substring\n",
    "\n",
    "s = 'udacity'  # parent string\n",
    "t = 'ad'      # child string\n",
    "\n",
    "def question1(s, t):\n",
    "# 1st step, verify child string is lesser than parent string \n",
    "    m = len(s)\n",
    "    n = len(t)\n",
    "    if m <= n:\n",
    "        return False\n",
    "\n",
    "\n",
    "    target = dict.fromkeys(t,0)  # seperate t string and append into dict\n",
    "    for c in t:\n",
    "        target[c] += 1\n",
    "\n",
    "# 2nd step, make sure s includes all of charactors in t, means prarent includes child\n",
    "    for i in range(n):\n",
    "        c = s[i]\n",
    "        if c in target:\n",
    "            target[c] -= 1\n",
    "    discrepancy = sum(abs(target[c]) for c in target)\n",
    "\n",
    "# 3rd, repeatedly check then slide\n",
    "    for i in range(n, m):\n",
    "        if discrepancy == 0:\n",
    "            return True\n",
    "        else:\n",
    "            c = s[i-n]  # first process charactor from m steps ago from s\n",
    "            if c in target:\n",
    "                target[c] += 1\n",
    "                if target[c] > 0:\n",
    "                    discrepancy +=1\n",
    "                else:\n",
    "                    discrepancy -=1\n",
    "\n",
    "            c = s[i]     # process new charactor\n",
    "            if c in target:\n",
    "                target[c] -= 1\n",
    "                if target[c] < 0:\n",
    "                    discrepancy += 1\n",
    "                else:\n",
    "                    discrepancy -=1\n",
    "\n",
    "# last step, verify if all of charactors in child string is equal to substring of parent string\n",
    "    return discrepancy == 0\n",
    "\n",
    "print 'answer 1: ', question1(s, t)"
   ]
  },
  {
   "cell_type": "code",
   "execution_count": null,
   "metadata": {
    "collapsed": false
   },
   "outputs": [],
   "source": [
    "'''\n",
    "just keep it for studing, this function have to check without order\n",
    "\n",
    "s = 'udacity'\n",
    "t = 'ad'\n",
    "def question1(s, t):\n",
    "    for u in t:\n",
    "        if u not in s:\n",
    "            return False\n",
    "    return True\n",
    "\n",
    "print 'answer 1: ', question1(s, t)\n",
    "\n",
    "'''"
   ]
  },
  {
   "cell_type": "code",
   "execution_count": null,
   "metadata": {
    "collapsed": false
   },
   "outputs": [],
   "source": [
    "'''\n",
    "just keep it for studing, this function have to check by order\n",
    "\n",
    "s = 'udacity'\n",
    "t = 'ad'\n",
    "def question1(s, t):\n",
    "    return t in s\n",
    "\n",
    "print 'answer 1: ', question1(s, t)\n",
    "\n",
    "'''"
   ]
  },
  {
   "cell_type": "markdown",
   "metadata": {},
   "source": [
    "### Question 2\n",
    "Given a string a, find the longest palindromic substring contained in a.  \n",
    "Your function definition should look like question2(a), and return a string."
   ]
  },
  {
   "cell_type": "code",
   "execution_count": 2,
   "metadata": {
    "collapsed": false
   },
   "outputs": [
    {
     "name": "stdout",
     "output_type": "stream",
     "text": [
      "answer 2:  3\n"
     ]
    }
   ],
   "source": [
    "a = \"udacitydataanalysis\"  # ata, ana, sis all are palindromic substring\n",
    "\n",
    "def question2(str):\n",
    "    count=[]\n",
    "    for s in range(len(str)):\n",
    "        for i in range(s,len(str)):\n",
    "            if str[s:i+1] == str[i:s-1:-1]:  # [::-1] reverse value\n",
    "                count.append(i+1-s)\n",
    "    return max(count)\n",
    "\n",
    "print 'answer 2: ', question2(a)"
   ]
  },
  {
   "cell_type": "markdown",
   "metadata": {},
   "source": [
    "### Question 3\n",
    "Given an undirected graph G, find the minimum spanning tree within G.  \n",
    "A minimum spanning tree connects all vertices in a graph with the smallest possible total weight of edges.  \n",
    "Your function should take in and return an adjacency list structured like this:  \n",
    "  \n",
    "{'A': [('B', 2)], 'B': [('A', 2), ('C', 5)], 'C': [('B', 5)]}  \n",
    "Vertices are represented as unique strings. The function definition should be question3(G)  "
   ]
  },
  {
   "cell_type": "code",
   "execution_count": 3,
   "metadata": {
    "collapsed": false
   },
   "outputs": [
    {
     "name": "stdout",
     "output_type": "stream",
     "text": [
      "answer 3: The minimum spanning tree is  [('A', 'D', 5), ('D', 'F', 6), ('A', 'B', 7), ('B', 'E', 7), ('E', 'C', 5), ('E', 'G', 9)]\n"
     ]
    }
   ],
   "source": [
    "from collections import defaultdict\n",
    "from heapq import *\n",
    "\n",
    "'''\n",
    "1 - defaultdict(list) have to use list as variable\n",
    "    reference: https://docs.python.org/2/library/collections.html#collections.defaultdict\n",
    "2 - adjiacency list as requirement in question, out put below:\n",
    "    defaultdict(<type 'list'>, {'A': [(7, 'A', 'B'), (5, 'A', 'D')], \n",
    "                                'C': [(8, 'C', 'B'), (5, 'C', 'E')], \n",
    "                                'B': [(7, 'B', 'A'), (8, 'B', 'C'), (9, 'B', 'D'), (7, 'B', 'E')], \n",
    "                                'E': [(7, 'E', 'B'), (5, 'E', 'C'), (15, 'E', 'D'), (8, 'E', 'F'), (9, 'E', 'G')], \n",
    "                                'D': [(5, 'D', 'A'), (9, 'D', 'B'), (15, 'D', 'E'), (6, 'D', 'F')], \n",
    "                                'G': [(9, 'G', 'E'), (11, 'G', 'F')], \n",
    "                                'F': [(6, 'F', 'D'), (8, 'F', 'E'), (11, 'F', 'G')]})\n",
    "3 - set(G['vertexs'][0]) is set['A'] in vertexs\n",
    "    you can pick any node as starting, find its neighbors and the shortest edges\n",
    "'''\n",
    "\n",
    "def question3(G):\n",
    "    adjacent_vertex = defaultdict(list)      \n",
    "    for v1,v2,len in G['edges']:\n",
    "        adjacent_vertex[v1].append((len, v1, v2))\n",
    "        adjacent_vertex[v2].append((len, v2, v1))\n",
    "\n",
    "    mst = []                   # defind mst as the minimum spanning tree\n",
    "    chosed = set(G['vertexs'][0])  \n",
    "    \n",
    "    # find edges with A, adjacent_vertexs['A']=[(7,'A','B'),(5,'A','D')]\n",
    "    adjacent_vertexs_edges = adjacent_vertex[G['vertexs'][0]]\n",
    "\n",
    "    # add usable_edges to stack, get minimum value by heapop\n",
    "    heapify(adjacent_vertexs_edges)\n",
    "\n",
    "    while adjacent_vertexs_edges:\n",
    "        w, v1, v2 = heappop(adjacent_vertexs_edges)   # get a node and minimum edges with neighbors, delete them from stack\n",
    "        if v2 not in chosed:\n",
    "            chosed.add(v2)   # 'D' is the closest node with 'A', add 'D' into usable_edges\n",
    "            mst.append((v1,v2,w))  # first loop is ('A','D',5), append this into mst\n",
    "\n",
    "            # find the neighbors with 'D', use heappush add them into stack if they are not in heap \n",
    "            for next_vertex in adjacent_vertex[v2]:                    \n",
    "                if next_vertex[2] not in chosed:\n",
    "                    heappush( adjacent_vertexs_edges,next_vertex)\n",
    "    return mst\n",
    "\n",
    "\n",
    "# created an undirected graph G\n",
    "G = {'vertexs': ['A', 'B', 'C', 'D', 'E', 'F', 'G'],\n",
    "     'edges' : [ (\"A\", \"B\", 7), (\"A\", \"D\", 5),\n",
    "                (\"B\", \"C\", 8), (\"B\", \"D\", 9),\n",
    "                (\"B\", \"E\", 7), (\"C\", \"E\", 5),\n",
    "                (\"D\", \"E\", 15), (\"D\", \"F\", 6),\n",
    "                (\"E\", \"F\", 8), (\"E\", \"G\", 9),\n",
    "                (\"F\", \"G\", 11)]}\n",
    "\n",
    "print 'answer 3: The minimum spanning tree is ', question3(G)"
   ]
  },
  {
   "cell_type": "markdown",
   "metadata": {},
   "source": [
    "### Question 4\n",
    "Find the least common ancestor between two nodes on a binary search tree.  \n",
    "The least common ancestor is the farthest node from the root that is an ancestor of both nodes.  \n",
    "For example, the root is a common ancestor of all nodes on the tree, but if both nodes are descendents of the root's left child, then that left child might be the lowest common ancestor.  \n",
    "You can assume that both nodes are in the tree, and the tree itself adheres to all BST properties.  \n",
    "The function definition should look like question4(T, r, n1, n2), where T is the tree represented as a matrix, where the index of the list is equal to the integer stored in that node and a 1 represents a child node, r is a non-negative integer representing the root, and n1 and n2 are non-negative integers representing the two nodes in no particular order.  \n",
    "For example, one test case might be  \n",
    "  \n",
    "question4([[0, 1, 0, 0, 0],  \n",
    "           [0, 0, 0, 0, 0],  \n",
    "           [0, 0, 0, 0, 0],  \n",
    "           [1, 0, 0, 0, 1],  \n",
    "           [0, 0, 0, 0, 0]],  \n",
    "          3,  \n",
    "          1,  \n",
    "          4)  \n",
    "and the answer would be 3."
   ]
  },
  {
   "cell_type": "code",
   "execution_count": 4,
   "metadata": {
    "collapsed": false
   },
   "outputs": [
    {
     "name": "stdout",
     "output_type": "stream",
     "text": [
      "answer 4:  3\n"
     ]
    }
   ],
   "source": [
    "'''\n",
    "Chek n1 and n2 at which side of r\n",
    "if r < n1 < n2, LCA shall be right side\n",
    "if r > n2 > n1, LCA shall be left side\n",
    "if n1 <= r <= n2, LCA is r\n",
    "because p always less than q，time Complexity: O(n)\n",
    "'''\n",
    "\n",
    "def question4(T, r, n1, n2):\n",
    "    if not r:\n",
    "        return r\n",
    "    elif n1 > n2:\n",
    "        return T.lowestCommonAncestor(r, n2, n1)\n",
    "    elif r >= n1 and r <= n2:\n",
    "        return r\n",
    "    elif r < n1:\n",
    "        return T.lowestCommonAncestor(r.right, n1, n2)\n",
    "    elif r > n2:\n",
    "        return T.lowestCommonAncestor(r.left, n1, n2)\n",
    "\n",
    "print 'answer 4: ', question4([[0, 1, 0, 0, 0],\n",
    "                                [0, 0, 0, 0, 0],\n",
    "                                [0, 0, 0, 0, 0],\n",
    "                                [1, 0, 0, 0, 1],\n",
    "                                [0, 0, 0, 0, 0]],\n",
    "                               3, 1, 4)"
   ]
  },
  {
   "cell_type": "code",
   "execution_count": 5,
   "metadata": {
    "collapsed": false
   },
   "outputs": [
    {
     "name": "stdout",
     "output_type": "stream",
     "text": [
      "answer 4:  3\n"
     ]
    }
   ],
   "source": [
    "# improved code\n",
    "def question4(T, r, n1, n2):\n",
    "    if n1 < r and n2 < r:\n",
    "        return T.lowestCommonAncestor(r.left, n1, n2)\n",
    "    if n1 > r and n2 > r:\n",
    "        return T.lowestCommonAncestor(r.right, n1, n2)\n",
    "    return r\n",
    "\n",
    "print 'answer 4: ', question4([[0, 1, 0, 0, 0],\n",
    "                               [0, 0, 0, 0, 0],\n",
    "                               [0, 0, 0, 0, 0],\n",
    "                               [1, 0, 0, 0, 1],\n",
    "                               [0, 0, 0, 0, 0]],\n",
    "                              3, 1, 4)"
   ]
  },
  {
   "cell_type": "markdown",
   "metadata": {},
   "source": [
    "### Question 5\n",
    "Find the element in a singly linked list that's m elements from the end. For example, if a linked list has 5 elements, the 3rd element from the end is the 3rd element.  \n",
    "The function definition should look like question5(ll, m), where ll is the first node of a linked list and m is the \"mth number from the end\".  \n",
    "You should copy/paste the Node class below to use as a representation of a node in the linked list.  \n",
    "Return the value of the node at that position.  \n",
    "  \n",
    "class Node(object):  \n",
    "  def __init__(self, data):  \n",
    "    self.data = data  \n",
    "    self.next = None  "
   ]
  },
  {
   "cell_type": "code",
   "execution_count": 6,
   "metadata": {
    "collapsed": false
   },
   "outputs": [
    {
     "name": "stdout",
     "output_type": "stream",
     "text": [
      "answer 5: Node number 3 from last is 33\n"
     ]
    }
   ],
   "source": [
    "'''\n",
    "Maintain reference pointer & main pointer\n",
    "initialize both reference and main pointers to head\n",
    "move reference pointer to m nodes from head\n",
    "move both pointers until reference pointer reaches end\n",
    "main pointer will point to nth node from the end\n",
    "return main pointer\n",
    "time complexity: O(n)\n",
    "''' \n",
    "# Node class below to use as a representation of a node in the linked list\n",
    "class Node(object):\n",
    "    def __init__(self, data):\n",
    "        self.data = data\n",
    "        self.next = None\n",
    "\n",
    "# define linkedList class\n",
    "class linkedList:\n",
    "    def __init__(self): # first step, initialize head\n",
    "        self.head = None\n",
    "\n",
    "    def push(self, new_data): # define push() function for second step, add element into list\n",
    "        new_node = Node(new_data)\n",
    "        new_node.next = self.head\n",
    "        self.head = new_node\n",
    " \n",
    "    def question5(self, m): # last step, find element in list. since linkedlist is stack, first input is last emlent\n",
    "        main_ptr = self.head\n",
    "        ref_ptr = self.head \n",
    "     \n",
    "        count  = 0 # if m is greater than number of nodes, return it. if lesser, count add 1\n",
    "        if(self.head is not None):\n",
    "            while(count < m ):\n",
    "                if(ref_ptr is None):\n",
    "                    print str(m) + ' is greater than the number of nodes in list'\n",
    "                    return\n",
    "  \n",
    "                ref_ptr = ref_ptr.next\n",
    "                count += 1\n",
    " \n",
    "        while(ref_ptr is not None): # find element\n",
    "            main_ptr = main_ptr.next\n",
    "            ref_ptr = ref_ptr.next\n",
    "        print 'answer 5: Node number ' + str(m) + ' from last is %d' %(main_ptr.data) # this syntax use one parmeter for algorithm\n",
    "#       print \"Node no. %d from last is %d \" %(m, main_ptr.data) # this syntax use two parmeters for algorithm\n",
    " \n",
    "# create new linkedlist\n",
    "llist = linkedList()\n",
    "llist.push(11)\n",
    "llist.push(22)\n",
    "llist.push(33)\n",
    "llist.push(44)\n",
    "llist.push(55)\n",
    "llist.push(66)\n",
    "\n",
    "llist.question5(3)"
   ]
  }
 ],
 "metadata": {
  "anaconda-cloud": {},
  "kernelspec": {
   "display_name": "Python [Root]",
   "language": "python",
   "name": "Python [Root]"
  },
  "language_info": {
   "codemirror_mode": {
    "name": "ipython",
    "version": 2
   },
   "file_extension": ".py",
   "mimetype": "text/x-python",
   "name": "python",
   "nbconvert_exporter": "python",
   "pygments_lexer": "ipython2",
   "version": "2.7.12"
  }
 },
 "nbformat": 4,
 "nbformat_minor": 0
}
